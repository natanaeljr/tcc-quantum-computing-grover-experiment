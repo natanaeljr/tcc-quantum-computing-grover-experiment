{
 "cells": [
  {
   "cell_type": "code",
   "execution_count": 3,
   "metadata": {},
   "outputs": [
    {
     "name": "stderr",
     "output_type": "stream",
     "text": [
      "/tmp/ipykernel_3142526/1521369183.py:8: DeprecationWarning: ``qiskit.algorithms.amplitude_amplifiers.grover.Grover.__init__()``'s argument ``quantum_instance`` is deprecated as of qiskit-terra 0.24.0. It will be removed no earlier than 3 months after the release date. Instead, use the ``sampler`` argument. See https://qisk.it/algo_migration for a migration guide.\n",
      "  grover = Grover(oracle, quantum_instance=backend)\n"
     ]
    },
    {
     "ename": "TypeError",
     "evalue": "'PhaseOracle' object is not an iterator",
     "output_type": "error",
     "traceback": [
      "\u001b[0;31m---------------------------------------------------------------------------\u001b[0m",
      "\u001b[0;31mTypeError\u001b[0m                                 Traceback (most recent call last)",
      "\u001b[1;32m/home/njr/tmp/cubic-graph/grover_3sat_v1.ipynb Cell 1\u001b[0m line \u001b[0;36m1\n\u001b[1;32m      <a href='vscode-notebook-cell:/home/njr/tmp/cubic-graph/grover_3sat_v1.ipynb#W0sZmlsZQ%3D%3D?line=7'>8</a>\u001b[0m grover \u001b[39m=\u001b[39m Grover(oracle, quantum_instance\u001b[39m=\u001b[39mbackend)\n\u001b[1;32m      <a href='vscode-notebook-cell:/home/njr/tmp/cubic-graph/grover_3sat_v1.ipynb#W0sZmlsZQ%3D%3D?line=8'>9</a>\u001b[0m problem \u001b[39m=\u001b[39m AmplificationProblem(oracle)\n\u001b[0;32m---> <a href='vscode-notebook-cell:/home/njr/tmp/cubic-graph/grover_3sat_v1.ipynb#W0sZmlsZQ%3D%3D?line=9'>10</a>\u001b[0m result \u001b[39m=\u001b[39m grover\u001b[39m.\u001b[39;49mamplify(problem)\n\u001b[1;32m     <a href='vscode-notebook-cell:/home/njr/tmp/cubic-graph/grover_3sat_v1.ipynb#W0sZmlsZQ%3D%3D?line=10'>11</a>\u001b[0m \u001b[39mprint\u001b[39m(result\u001b[39m.\u001b[39moracle_evaluation, \u001b[39m'\u001b[39m\u001b[39m \u001b[39m\u001b[39m'\u001b[39m, result\u001b[39m.\u001b[39mtop_measurement)\n\u001b[1;32m     <a href='vscode-notebook-cell:/home/njr/tmp/cubic-graph/grover_3sat_v1.ipynb#W0sZmlsZQ%3D%3D?line=11'>12</a>\u001b[0m problem\u001b[39m.\u001b[39mgrover_operator\u001b[39m.\u001b[39mdecompose()\u001b[39m.\u001b[39mdraw(output\u001b[39m=\u001b[39m\u001b[39m'\u001b[39m\u001b[39mmpl\u001b[39m\u001b[39m'\u001b[39m)\n",
      "File \u001b[0;32m~/.pyenv/versions/3.10.1/lib/python3.10/site-packages/qiskit/algorithms/amplitude_amplifiers/grover.py:290\u001b[0m, in \u001b[0;36mGrover.amplify\u001b[0;34m(self, amplification_problem)\u001b[0m\n\u001b[1;32m    286\u001b[0m shots \u001b[39m=\u001b[39m \u001b[39m0\u001b[39m\n\u001b[1;32m    288\u001b[0m \u001b[39mfor\u001b[39;00m _ \u001b[39min\u001b[39;00m \u001b[39mrange\u001b[39m(max_iterations):  \u001b[39m# iterate at most to the max number of iterations\u001b[39;00m\n\u001b[1;32m    289\u001b[0m     \u001b[39m# get next power and check if allowed\u001b[39;00m\n\u001b[0;32m--> 290\u001b[0m     power \u001b[39m=\u001b[39m \u001b[39mnext\u001b[39;49m(iterator)\n\u001b[1;32m    292\u001b[0m     \u001b[39mif\u001b[39;00m power \u001b[39m>\u001b[39m max_power:\n\u001b[1;32m    293\u001b[0m         \u001b[39mbreak\u001b[39;00m\n",
      "\u001b[0;31mTypeError\u001b[0m: 'PhaseOracle' object is not an iterator"
     ]
    }
   ],
   "source": [
    "from qiskit import Aer\n",
    "from qiskit.algorithms import AmplificationProblem, Grover\n",
    "from qiskit.circuit.library import PhaseOracle\n",
    "from qiskit.visualization import plot_histogram\n",
    "\n",
    "backend = Aer.get_backend('qasm_simulator')\n",
    "oracle = PhaseOracle.from_dimacs_file('data/instance1.cnf')\n",
    "grover = Grover(oracle, quantum_instance=backend)\n",
    "problem = AmplificationProblem(oracle)\n",
    "result = grover.amplify(problem)\n",
    "print(result.oracle_evaluation, ' ', result.top_measurement)\n",
    "problem.grover_operator.decompose().draw(output='mpl')\n",
    "plot_histogram(result.circuit_results)\n",
    "\n",
    "  "
   ]
  }
 ],
 "metadata": {
  "kernelspec": {
   "display_name": "Python 3",
   "language": "python",
   "name": "python3"
  },
  "language_info": {
   "codemirror_mode": {
    "name": "ipython",
    "version": 3
   },
   "file_extension": ".py",
   "mimetype": "text/x-python",
   "name": "python",
   "nbconvert_exporter": "python",
   "pygments_lexer": "ipython3",
   "version": "3.10.1"
  },
  "orig_nbformat": 4
 },
 "nbformat": 4,
 "nbformat_minor": 2
}
