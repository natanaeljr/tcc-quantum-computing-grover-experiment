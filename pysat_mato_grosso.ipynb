{
 "cells": [
  {
   "cell_type": "code",
   "execution_count": 1,
   "metadata": {},
   "outputs": [
    {
     "name": "stdout",
     "output_type": "stream",
     "text": [
      "SAT: True\n",
      "[-1, 2, -3, 4, -5, -6, -7, -8, 9, -10, 11, -12, 13, -14, -15]\n",
      "[-1, 2, -3, -4, -5, 6, 7, -8, -9, -10, 11, -12, -13, -14, 15]\n",
      "[1, -2, -3, -4, 5, -6, -7, -8, 9, 10, -11, -12, -13, 14, -15]\n",
      "[1, -2, -3, -4, -5, 6, -7, 8, -9, 10, -11, -12, -13, -14, 15]\n",
      "[-1, -2, 3, 4, -5, -6, -7, 8, -9, -10, -11, 12, 13, -14, -15]\n",
      "[-1, -2, 3, -4, 5, -6, 7, -8, -9, -10, -11, 12, -13, 14, -15]\n",
      "Num of solutions: 6\n"
     ]
    }
   ],
   "source": [
    "from pysat.formula import CNF\n",
    "from pysat.solvers import Glucose3\n",
    "\n",
    "formula = CNF(from_file='data/grafo_regiões_mato_grosso.cnf')\n",
    "g = Glucose3(bootstrap_with=formula)\n",
    "print(\"SAT:\", g.solve())\n",
    "num_solutions = 0\n",
    "for model in g.enum_models():\n",
    "    print(model)\n",
    "    num_solutions += 1\n",
    "print(\"Num of solutions:\", num_solutions)"
   ]
  }
 ],
 "metadata": {
  "kernelspec": {
   "display_name": "Python 3",
   "language": "python",
   "name": "python3"
  },
  "language_info": {
   "codemirror_mode": {
    "name": "ipython",
    "version": 3
   },
   "file_extension": ".py",
   "mimetype": "text/x-python",
   "name": "python",
   "nbconvert_exporter": "python",
   "pygments_lexer": "ipython3",
   "version": "3.10.1"
  },
  "orig_nbformat": 4
 },
 "nbformat": 4,
 "nbformat_minor": 2
}
