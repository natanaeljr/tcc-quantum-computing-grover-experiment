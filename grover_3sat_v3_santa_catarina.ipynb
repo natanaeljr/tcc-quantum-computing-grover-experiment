{
 "cells": [
  {
   "cell_type": "code",
   "execution_count": 3,
   "metadata": {},
   "outputs": [
    {
     "name": "stderr",
     "output_type": "stream",
     "text": [
      "ibmqfactory.load_account:WARNING:2023-11-18 16:17:01,561: Credentials are already in use. The existing account in the session will be replaced.\n"
     ]
    },
    {
     "name": "stdout",
     "output_type": "stream",
     "text": [
      "num_quibits 21\n",
      "iterations 1\n"
     ]
    },
    {
     "ename": "AlgorithmError",
     "evalue": "'Sampler job failed.'",
     "output_type": "error",
     "traceback": [
      "\u001b[0;31m---------------------------------------------------------------------------\u001b[0m",
      "\u001b[0;31mRuntimeJobMaxTimeoutError\u001b[0m                 Traceback (most recent call last)",
      "File \u001b[0;32m~/.pyenv/versions/3.10.1/lib/python3.10/site-packages/qiskit_algorithms/amplitude_amplifiers/grover.py:243\u001b[0m, in \u001b[0;36mGrover.amplify\u001b[0;34m(self, amplification_problem)\u001b[0m\n\u001b[1;32m    242\u001b[0m \u001b[39mtry\u001b[39;00m:\n\u001b[0;32m--> 243\u001b[0m     results \u001b[39m=\u001b[39m job\u001b[39m.\u001b[39;49mresult()\n\u001b[1;32m    244\u001b[0m \u001b[39mexcept\u001b[39;00m \u001b[39mException\u001b[39;00m \u001b[39mas\u001b[39;00m exc:\n",
      "File \u001b[0;32m~/.pyenv/versions/3.10.1/lib/python3.10/site-packages/qiskit_ibm_runtime/runtime_job.py:221\u001b[0m, in \u001b[0;36mRuntimeJob.result\u001b[0;34m(self, timeout, decoder)\u001b[0m\n\u001b[1;32m    220\u001b[0m \u001b[39mif\u001b[39;00m \u001b[39mself\u001b[39m\u001b[39m.\u001b[39m_reason \u001b[39m==\u001b[39m \u001b[39m\"\u001b[39m\u001b[39mRAN TOO LONG\u001b[39m\u001b[39m\"\u001b[39m:\n\u001b[0;32m--> 221\u001b[0m     \u001b[39mraise\u001b[39;00m RuntimeJobMaxTimeoutError(error_message)\n\u001b[1;32m    222\u001b[0m \u001b[39mraise\u001b[39;00m RuntimeJobFailureError(\u001b[39mf\u001b[39m\u001b[39m\"\u001b[39m\u001b[39mUnable to retrieve job result. \u001b[39m\u001b[39m{\u001b[39;00merror_message\u001b[39m}\u001b[39;00m\u001b[39m\"\u001b[39m)\n",
      "\u001b[0;31mRuntimeJobMaxTimeoutError\u001b[0m: 'RAN TOO LONG'",
      "\nThe above exception was the direct cause of the following exception:\n",
      "\u001b[0;31mAlgorithmError\u001b[0m                            Traceback (most recent call last)",
      "\u001b[1;32m/home/njr/tmp/cubic-graph/grover_3sat_v3_santa_catarina.ipynb Cell 1\u001b[0m line \u001b[0;36m7\n\u001b[1;32m     <a href='vscode-notebook-cell:/home/njr/tmp/cubic-graph/grover_3sat_v3_santa_catarina.ipynb#W0sZmlsZQ%3D%3D?line=52'>53</a>\u001b[0m         \u001b[39mprint\u001b[39m(\u001b[39m\"\u001b[39m\u001b[39mwidth\u001b[39m\u001b[39m\"\u001b[39m, problem\u001b[39m.\u001b[39mgrover_operator\u001b[39m.\u001b[39mdecompose()\u001b[39m.\u001b[39mwidth())\n\u001b[1;32m     <a href='vscode-notebook-cell:/home/njr/tmp/cubic-graph/grover_3sat_v3_santa_catarina.ipynb#W0sZmlsZQ%3D%3D?line=53'>54</a>\u001b[0m         \u001b[39m# problem.grover_operator.decompose().qasm(formatted=True)\u001b[39;00m\n\u001b[1;32m     <a href='vscode-notebook-cell:/home/njr/tmp/cubic-graph/grover_3sat_v3_santa_catarina.ipynb#W0sZmlsZQ%3D%3D?line=54'>55</a>\u001b[0m         \u001b[39m# grover.construct_circuit(problem=problem).decompose(reps=2).draw(output='mpl')\u001b[39;00m\n\u001b[1;32m     <a href='vscode-notebook-cell:/home/njr/tmp/cubic-graph/grover_3sat_v3_santa_catarina.ipynb#W0sZmlsZQ%3D%3D?line=55'>56</a>\u001b[0m \n\u001b[0;32m   (...)\u001b[0m\n\u001b[1;32m     <a href='vscode-notebook-cell:/home/njr/tmp/cubic-graph/grover_3sat_v3_santa_catarina.ipynb#W0sZmlsZQ%3D%3D?line=67'>68</a>\u001b[0m         \u001b[39m# print(result_array)\u001b[39;00m\n\u001b[1;32m     <a href='vscode-notebook-cell:/home/njr/tmp/cubic-graph/grover_3sat_v3_santa_catarina.ipynb#W0sZmlsZQ%3D%3D?line=68'>69</a>\u001b[0m         \u001b[39m#array_to_latex(result_array, prefix=\"\\\\text{Statevector} = \", max_size=32)\u001b[39;00m\n\u001b[0;32m---> <a href='vscode-notebook-cell:/home/njr/tmp/cubic-graph/grover_3sat_v3_santa_catarina.ipynb#W0sZmlsZQ%3D%3D?line=70'>71</a>\u001b[0m max_mem \u001b[39m=\u001b[39m memory_usage(proc\u001b[39m=\u001b[39;49mmain, interval\u001b[39m=\u001b[39;49m\u001b[39m1\u001b[39;49m, max_usage\u001b[39m=\u001b[39;49m\u001b[39mTrue\u001b[39;49;00m)\n\u001b[1;32m     <a href='vscode-notebook-cell:/home/njr/tmp/cubic-graph/grover_3sat_v3_santa_catarina.ipynb#W0sZmlsZQ%3D%3D?line=71'>72</a>\u001b[0m \u001b[39mprint\u001b[39m(\u001b[39m\"\u001b[39m\u001b[39mmax_mem\u001b[39m\u001b[39m\"\u001b[39m, max_mem, \u001b[39m\"\u001b[39m\u001b[39mMiB\u001b[39m\u001b[39m\"\u001b[39m)\n\u001b[1;32m     <a href='vscode-notebook-cell:/home/njr/tmp/cubic-graph/grover_3sat_v3_santa_catarina.ipynb#W0sZmlsZQ%3D%3D?line=73'>74</a>\u001b[0m total_time \u001b[39m=\u001b[39m time\u001b[39m.\u001b[39mtime() \u001b[39m-\u001b[39m epoch_time\n",
      "File \u001b[0;32m~/.pyenv/versions/3.10.1/lib/python3.10/site-packages/memory_profiler.py:379\u001b[0m, in \u001b[0;36mmemory_usage\u001b[0;34m(proc, interval, timeout, timestamps, include_children, multiprocess, max_usage, retval, stream, backend, max_iterations)\u001b[0m\n\u001b[1;32m    376\u001b[0m \u001b[39m# When there is an exception in the \"proc\" - the (spawned) monitoring processes don't get killed.\u001b[39;00m\n\u001b[1;32m    377\u001b[0m \u001b[39m# Therefore, the whole process hangs indefinitely. Here, we are ensuring that the process gets killed!\u001b[39;00m\n\u001b[1;32m    378\u001b[0m \u001b[39mtry\u001b[39;00m:\n\u001b[0;32m--> 379\u001b[0m     returned \u001b[39m=\u001b[39m f(\u001b[39m*\u001b[39;49margs, \u001b[39m*\u001b[39;49m\u001b[39m*\u001b[39;49mkw)\n\u001b[1;32m    380\u001b[0m     parent_conn\u001b[39m.\u001b[39msend(\u001b[39m0\u001b[39m)  \u001b[39m# finish timing\u001b[39;00m\n\u001b[1;32m    381\u001b[0m     ret \u001b[39m=\u001b[39m parent_conn\u001b[39m.\u001b[39mrecv()\n",
      "\u001b[1;32m/home/njr/tmp/cubic-graph/grover_3sat_v3_santa_catarina.ipynb Cell 1\u001b[0m line \u001b[0;36m3\n\u001b[1;32m     <a href='vscode-notebook-cell:/home/njr/tmp/cubic-graph/grover_3sat_v3_santa_catarina.ipynb#W0sZmlsZQ%3D%3D?line=30'>31</a>\u001b[0m grover \u001b[39m=\u001b[39m Grover(iterations\u001b[39m=\u001b[39miterations, sampler\u001b[39m=\u001b[39msampler)\n\u001b[1;32m     <a href='vscode-notebook-cell:/home/njr/tmp/cubic-graph/grover_3sat_v3_santa_catarina.ipynb#W0sZmlsZQ%3D%3D?line=31'>32</a>\u001b[0m circuit_time \u001b[39m=\u001b[39m time\u001b[39m.\u001b[39mtime() \u001b[39m-\u001b[39m start_time\n\u001b[0;32m---> <a href='vscode-notebook-cell:/home/njr/tmp/cubic-graph/grover_3sat_v3_santa_catarina.ipynb#W0sZmlsZQ%3D%3D?line=32'>33</a>\u001b[0m result \u001b[39m=\u001b[39m grover\u001b[39m.\u001b[39;49mamplify(problem)\n\u001b[1;32m     <a href='vscode-notebook-cell:/home/njr/tmp/cubic-graph/grover_3sat_v3_santa_catarina.ipynb#W0sZmlsZQ%3D%3D?line=33'>34</a>\u001b[0m result_time \u001b[39m=\u001b[39m time\u001b[39m.\u001b[39mtime() \u001b[39m-\u001b[39m start_time \u001b[39m-\u001b[39m circuit_time\n\u001b[1;32m     <a href='vscode-notebook-cell:/home/njr/tmp/cubic-graph/grover_3sat_v3_santa_catarina.ipynb#W0sZmlsZQ%3D%3D?line=35'>36</a>\u001b[0m \u001b[39m# oracle = QuantumCircuit(2)\u001b[39;00m\n\u001b[1;32m     <a href='vscode-notebook-cell:/home/njr/tmp/cubic-graph/grover_3sat_v3_santa_catarina.ipynb#W0sZmlsZQ%3D%3D?line=36'>37</a>\u001b[0m \u001b[39m# oracle.cz(0, 1, ctrl_state=0)\u001b[39;00m\n\u001b[1;32m     <a href='vscode-notebook-cell:/home/njr/tmp/cubic-graph/grover_3sat_v3_santa_catarina.ipynb#W0sZmlsZQ%3D%3D?line=37'>38</a>\u001b[0m \u001b[39m# oracle.draw(output='text')\u001b[39;00m\n\u001b[1;32m     <a href='vscode-notebook-cell:/home/njr/tmp/cubic-graph/grover_3sat_v3_santa_catarina.ipynb#W0sZmlsZQ%3D%3D?line=38'>39</a>\u001b[0m \n\u001b[1;32m     <a href='vscode-notebook-cell:/home/njr/tmp/cubic-graph/grover_3sat_v3_santa_catarina.ipynb#W0sZmlsZQ%3D%3D?line=39'>40</a>\u001b[0m \u001b[39m# print(result.oracle_evaluation, result.top_measurement)\u001b[39;00m\n",
      "File \u001b[0;32m~/.pyenv/versions/3.10.1/lib/python3.10/site-packages/qiskit_algorithms/amplitude_amplifiers/grover.py:245\u001b[0m, in \u001b[0;36mGrover.amplify\u001b[0;34m(self, amplification_problem)\u001b[0m\n\u001b[1;32m    243\u001b[0m     results \u001b[39m=\u001b[39m job\u001b[39m.\u001b[39mresult()\n\u001b[1;32m    244\u001b[0m \u001b[39mexcept\u001b[39;00m \u001b[39mException\u001b[39;00m \u001b[39mas\u001b[39;00m exc:\n\u001b[0;32m--> 245\u001b[0m     \u001b[39mraise\u001b[39;00m AlgorithmError(\u001b[39m\"\u001b[39m\u001b[39mSampler job failed.\u001b[39m\u001b[39m\"\u001b[39m) \u001b[39mfrom\u001b[39;00m \u001b[39mexc\u001b[39;00m\n\u001b[1;32m    247\u001b[0m num_bits \u001b[39m=\u001b[39m \u001b[39mlen\u001b[39m(amplification_problem\u001b[39m.\u001b[39mobjective_qubits)\n\u001b[1;32m    248\u001b[0m circuit_results: \u001b[39mdict\u001b[39m[\u001b[39mstr\u001b[39m, Any] \u001b[39m|\u001b[39m Statevector \u001b[39m|\u001b[39m np\u001b[39m.\u001b[39mndarray \u001b[39m=\u001b[39m {\n\u001b[1;32m    249\u001b[0m     np\u001b[39m.\u001b[39mbinary_repr(k, num_bits): v \u001b[39mfor\u001b[39;00m k, v \u001b[39min\u001b[39;00m results\u001b[39m.\u001b[39mquasi_dists[\u001b[39m0\u001b[39m]\u001b[39m.\u001b[39mitems()\n\u001b[1;32m    250\u001b[0m }\n",
      "\u001b[0;31mAlgorithmError\u001b[0m: 'Sampler job failed.'"
     ]
    }
   ],
   "source": [
    "from qiskit_algorithms import AmplificationProblem, Grover\n",
    "from qiskit.circuit.library import PhaseOracle\n",
    "from qiskit.primitives import BackendSampler\n",
    "from qiskit.tools.visualization import plot_histogram\n",
    "from qiskit_ibm_runtime import Sampler, Options\n",
    "from qiskit import IBMQ\n",
    "from qiskit.visualization import array_to_latex\n",
    "from qiskit import QuantumCircuit\n",
    "import time, math\n",
    "from memory_profiler import memory_usage\n",
    "\n",
    "count = 1\n",
    "times = []\n",
    "iter_times = []\n",
    "epoch_time = time.time()\n",
    "\n",
    "def main():\n",
    "    for i in range(count):\n",
    "        start_time = time.time()\n",
    "\n",
    "        IBMQ.load_account()\n",
    "\n",
    "        oracle = PhaseOracle.from_dimacs_file('data/grafo_regiões_santa_catarina.cnf')\n",
    "        # oracle = PhaseOracle.from_dimacs_file('data/graphE.cnf')\n",
    "        problem = AmplificationProblem(oracle)\n",
    "        print(\"num_quibits\", problem.grover_operator.num_qubits)\n",
    "        sampler = Sampler(backend='ibmq_qasm_simulator', options={'max_execution_time': Options._MAX_EXECUTION_TIME})\n",
    "        # iterations = Grover.optimal_num_iterations(num_solutions=12, num_qubits=oracle.num_qubits) \n",
    "        iterations = 1\n",
    "        print(\"iterations\", iterations)\n",
    "        grover = Grover(iterations=iterations, sampler=sampler)\n",
    "        circuit_time = time.time() - start_time\n",
    "        result = grover.amplify(problem)\n",
    "        result_time = time.time() - start_time - circuit_time\n",
    "\n",
    "        # oracle = QuantumCircuit(2)\n",
    "        # oracle.cz(0, 1, ctrl_state=0)\n",
    "        # oracle.draw(output='text')\n",
    "\n",
    "        # print(result.oracle_evaluation, result.top_measurement)\n",
    "        print(result)\n",
    "        print(result.circuit_results[0])\n",
    "        # plot_histogram(result.circuit_results[0], figsize=(60,40))\n",
    "        display(plot_histogram(result.circuit_results[0]))\n",
    "        plot_time = time.time() - start_time - circuit_time - result_time\n",
    "        iteration_time = time.time() - start_time\n",
    "        times.append((circuit_time, result_time, plot_time, iteration_time))\n",
    "        iter_times.append(iteration_time)\n",
    "\n",
    "        # problem.oracle.decompose().draw(output='mpl')\n",
    "        display(problem.grover_operator.decompose().draw(output='mpl'))\n",
    "        print(\"depth\", problem.grover_operator.decompose().depth())\n",
    "        print(\"width\", problem.grover_operator.decompose().width())\n",
    "        # problem.grover_operator.decompose().qasm(formatted=True)\n",
    "        # grover.construct_circuit(problem=problem).decompose(reps=2).draw(output='mpl')\n",
    "\n",
    "\n",
    "        # array = []\n",
    "        # array.append(('100010001', result.circuit_results[0]['100010001']))\n",
    "        # array.append(('010001100', result.circuit_results[0]['010001100']))\n",
    "        # array.append(('100001010', result.circuit_results[0]['100001010']))\n",
    "        # array.append(('010100001', result.circuit_results[0]['010100001']))\n",
    "        # array.append(('001100010', result.circuit_results[0]['001100010']))\n",
    "        # array.append(('001010100', result.circuit_results[0]['001010100']))\n",
    "\n",
    "        # print(array)\n",
    "        # result_array = [round(x[1], 4) for x in array]\n",
    "        # print(result_array)\n",
    "        #array_to_latex(result_array, prefix=\"\\\\text{Statevector} = \", max_size=32)\n",
    "\n",
    "max_mem = memory_usage(proc=main, interval=1, max_usage=True)\n",
    "print(\"max_mem\", max_mem, \"MiB\")\n",
    "\n",
    "total_time = time.time() - epoch_time\n",
    "avg_time = total_time / count\n",
    "print(\"total_time\", total_time)\n",
    "print(\"avg_time\", avg_time)\n",
    "\n",
    "var = sum((i - avg_time) ** 2 for i in iter_times) / len(iter_times)\n",
    "std = math.sqrt(var)\n",
    "print(\"std\", std)\n",
    "\n",
    "print(\"iter_times\", iter_times)\n",
    "print(\"times\", times)\n",
    "\n"
   ]
  }
 ],
 "metadata": {
  "kernelspec": {
   "display_name": "Python 3",
   "language": "python",
   "name": "python3"
  },
  "language_info": {
   "codemirror_mode": {
    "name": "ipython",
    "version": 3
   },
   "file_extension": ".py",
   "mimetype": "text/x-python",
   "name": "python",
   "nbconvert_exporter": "python",
   "pygments_lexer": "ipython3",
   "version": "3.10.1"
  },
  "orig_nbformat": 4
 },
 "nbformat": 4,
 "nbformat_minor": 2
}
